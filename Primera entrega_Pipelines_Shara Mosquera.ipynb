{
 "cells": [
  {
   "cell_type": "markdown",
   "metadata": {},
   "source": [
    "#### Observación inicial de los datos"
   ]
  },
  {
   "cell_type": "code",
   "execution_count": 21,
   "metadata": {},
   "outputs": [
    {
     "name": "stdout",
     "output_type": "stream",
     "text": [
      "Requirement already satisfied: pandas in c:\\users\\shara\\appdata\\local\\programs\\python\\python311\\lib\\site-packages (2.2.3)\n",
      "Requirement already satisfied: numpy>=1.23.2 in c:\\users\\shara\\appdata\\local\\programs\\python\\python311\\lib\\site-packages (from pandas) (2.2.4)\n",
      "Requirement already satisfied: python-dateutil>=2.8.2 in c:\\users\\shara\\appdata\\roaming\\python\\python311\\site-packages (from pandas) (2.9.0.post0)\n",
      "Requirement already satisfied: pytz>=2020.1 in c:\\users\\shara\\appdata\\local\\programs\\python\\python311\\lib\\site-packages (from pandas) (2025.1)\n",
      "Requirement already satisfied: tzdata>=2022.7 in c:\\users\\shara\\appdata\\local\\programs\\python\\python311\\lib\\site-packages (from pandas) (2025.1)\n",
      "Requirement already satisfied: six>=1.5 in c:\\users\\shara\\appdata\\roaming\\python\\python311\\site-packages (from python-dateutil>=2.8.2->pandas) (1.17.0)\n",
      "  Transaction ID    Item Quantity Price Per Unit Total Spent  Payment Method  \\\n",
      "0    TXN_1961373  Coffee        2            2.0         4.0     Credit Card   \n",
      "1    TXN_4977031    Cake        4            3.0        12.0            Cash   \n",
      "2    TXN_4271903  Cookie        4            1.0       ERROR     Credit Card   \n",
      "3    TXN_7034554   Salad        2            5.0        10.0         UNKNOWN   \n",
      "4    TXN_3160411  Coffee        2            2.0         4.0  Digital Wallet   \n",
      "\n",
      "   Location Transaction Date  \n",
      "0  Takeaway       2023-09-08  \n",
      "1  In-store       2023-05-16  \n",
      "2  In-store       2023-07-19  \n",
      "3   UNKNOWN       2023-04-27  \n",
      "4  In-store       2023-06-11  \n"
     ]
    },
    {
     "name": "stderr",
     "output_type": "stream",
     "text": [
      "\n",
      "[notice] A new release of pip is available: 23.2.1 -> 25.0.1\n",
      "[notice] To update, run: python.exe -m pip install --upgrade pip\n"
     ]
    }
   ],
   "source": [
    "!pip install pandas\n",
    "import pandas as pd\n",
    "\n",
    "# Ruta del archivo CSV\n",
    "file_path = r\"C:\\Users\\shara\\OneDrive - Universidad Autónoma Latinoamericana\\7mo semestre\\Ciencia de datos II\\dirty_cafe_sales.csv\"\n",
    "\n",
    "# Cargar el archivo CSV en un DataFrame\n",
    "df = pd.read_csv(file_path)\n",
    "\n",
    "# Ver las primeras filas del DataFrame\n",
    "print(df.head())"
   ]
  },
  {
   "cell_type": "code",
   "execution_count": 22,
   "metadata": {},
   "outputs": [
    {
     "name": "stdout",
     "output_type": "stream",
     "text": [
      "<class 'pandas.core.frame.DataFrame'>\n",
      "RangeIndex: 10000 entries, 0 to 9999\n",
      "Data columns (total 8 columns):\n",
      " #   Column            Non-Null Count  Dtype \n",
      "---  ------            --------------  ----- \n",
      " 0   Transaction ID    10000 non-null  object\n",
      " 1   Item              9667 non-null   object\n",
      " 2   Quantity          9862 non-null   object\n",
      " 3   Price Per Unit    9821 non-null   object\n",
      " 4   Total Spent       9827 non-null   object\n",
      " 5   Payment Method    7421 non-null   object\n",
      " 6   Location          6735 non-null   object\n",
      " 7   Transaction Date  9841 non-null   object\n",
      "dtypes: object(8)\n",
      "memory usage: 625.1+ KB\n",
      "None\n",
      "       Transaction ID   Item Quantity Price Per Unit Total Spent  \\\n",
      "count           10000   9667     9862           9821        9827   \n",
      "unique          10000     10        7              8          19   \n",
      "top       TXN_9226047  Juice        5            3.0         6.0   \n",
      "freq                1   1171     2013           2429         979   \n",
      "\n",
      "        Payment Method  Location Transaction Date  \n",
      "count             7421      6735             9841  \n",
      "unique               5         4              367  \n",
      "top     Digital Wallet  Takeaway          UNKNOWN  \n",
      "freq              2291      3022              159  \n",
      "Transaction ID         0\n",
      "Item                 333\n",
      "Quantity             138\n",
      "Price Per Unit       179\n",
      "Total Spent          173\n",
      "Payment Method      2579\n",
      "Location            3265\n",
      "Transaction Date     159\n",
      "dtype: int64\n",
      "Transaction ID      object\n",
      "Item                object\n",
      "Quantity            object\n",
      "Price Per Unit      object\n",
      "Total Spent         object\n",
      "Payment Method      object\n",
      "Location            object\n",
      "Transaction Date    object\n",
      "dtype: object\n"
     ]
    }
   ],
   "source": [
    "# Ver información general\n",
    "print(df.info())\n",
    "\n",
    "# Descripción estadística de variables numéricas\n",
    "print(df.describe())\n",
    "\n",
    "# Identificar valores faltantes\n",
    "print(df.isnull().sum())\n",
    "\n",
    "# Ver tipos de datos\n",
    "print(df.dtypes)"
   ]
  },
  {
   "cell_type": "markdown",
   "metadata": {},
   "source": [
    "#### Limpieza de datos"
   ]
  },
  {
   "cell_type": "code",
   "execution_count": 23,
   "metadata": {},
   "outputs": [
    {
     "name": "stdout",
     "output_type": "stream",
     "text": [
      "Información del DataFrame limpio:\n",
      "<class 'pandas.core.frame.DataFrame'>\n",
      "RangeIndex: 10000 entries, 0 to 9999\n",
      "Data columns (total 8 columns):\n",
      " #   Column            Non-Null Count  Dtype \n",
      "---  ------            --------------  ----- \n",
      " 0   Transaction ID    10000 non-null  object\n",
      " 1   Item              9667 non-null   object\n",
      " 2   Quantity          9862 non-null   object\n",
      " 3   Price Per Unit    9821 non-null   object\n",
      " 4   Total Spent       9827 non-null   object\n",
      " 5   Payment Method    7421 non-null   object\n",
      " 6   Location          6735 non-null   object\n",
      " 7   Transaction Date  9841 non-null   object\n",
      "dtypes: object(8)\n",
      "memory usage: 625.1+ KB\n",
      "None\n",
      "\n",
      "Valores faltantes por columna:\n",
      "Transaction ID         0\n",
      "Item                 333\n",
      "Quantity             138\n",
      "Price Per Unit       179\n",
      "Total Spent          173\n",
      "Payment Method      2579\n",
      "Location            3265\n",
      "Transaction Date     159\n",
      "dtype: int64\n"
     ]
    }
   ],
   "source": [
    "print(\"Información del DataFrame limpio:\")\n",
    "print(df.info())\n",
    "\n",
    "print(\"\\nValores faltantes por columna:\")\n",
    "print(df.isnull().sum())"
   ]
  },
  {
   "cell_type": "code",
   "execution_count": 24,
   "metadata": {},
   "outputs": [
    {
     "name": "stdout",
     "output_type": "stream",
     "text": [
      "Transaction ID       object\n",
      "Item                 object\n",
      "Quantity            float64\n",
      "Price Per Unit      float64\n",
      "Total Spent          object\n",
      "Payment Method       object\n",
      "Location             object\n",
      "Transaction Date     object\n",
      "dtype: object\n",
      "<class 'pandas.core.frame.DataFrame'>\n",
      "Index: 9540 entries, 0 to 9999\n",
      "Data columns (total 8 columns):\n",
      " #   Column            Non-Null Count  Dtype         \n",
      "---  ------            --------------  -----         \n",
      " 0   Transaction ID    9540 non-null   object        \n",
      " 1   Item              9540 non-null   object        \n",
      " 2   Quantity          9540 non-null   float64       \n",
      " 3   Price Per Unit    9540 non-null   float64       \n",
      " 4   Total Spent       9540 non-null   float64       \n",
      " 5   Payment Method    9540 non-null   object        \n",
      " 6   Location          9540 non-null   object        \n",
      " 7   Transaction Date  9540 non-null   datetime64[ns]\n",
      "dtypes: datetime64[ns](1), float64(3), object(4)\n",
      "memory usage: 670.8+ KB\n",
      "None\n",
      "Información del DataFrame limpio:\n",
      "<class 'pandas.core.frame.DataFrame'>\n",
      "Index: 9540 entries, 0 to 9999\n",
      "Data columns (total 8 columns):\n",
      " #   Column            Non-Null Count  Dtype         \n",
      "---  ------            --------------  -----         \n",
      " 0   Transaction ID    9540 non-null   object        \n",
      " 1   Item              9540 non-null   object        \n",
      " 2   Quantity          9540 non-null   float64       \n",
      " 3   Price Per Unit    9540 non-null   float64       \n",
      " 4   Total Spent       9540 non-null   float64       \n",
      " 5   Payment Method    9540 non-null   object        \n",
      " 6   Location          9540 non-null   object        \n",
      " 7   Transaction Date  9540 non-null   datetime64[ns]\n",
      "dtypes: datetime64[ns](1), float64(3), object(4)\n",
      "memory usage: 670.8+ KB\n",
      "None\n",
      "\n",
      "Valores faltantes por columna:\n",
      "Transaction ID      0\n",
      "Item                0\n",
      "Quantity            0\n",
      "Price Per Unit      0\n",
      "Total Spent         0\n",
      "Payment Method      0\n",
      "Location            0\n",
      "Transaction Date    0\n",
      "dtype: int64\n"
     ]
    },
    {
     "name": "stderr",
     "output_type": "stream",
     "text": [
      "C:\\Users\\shara\\AppData\\Local\\Temp\\ipykernel_8752\\3871379536.py:14: FutureWarning: A value is trying to be set on a copy of a DataFrame or Series through chained assignment using an inplace method.\n",
      "The behavior will change in pandas 3.0. This inplace method will never work because the intermediate object on which we are setting values always behaves as a copy.\n",
      "\n",
      "For example, when doing 'df[col].method(value, inplace=True)', try using 'df.method({col: value}, inplace=True)' or df[col] = df[col].method(value) instead, to perform the operation inplace on the original object.\n",
      "\n",
      "\n",
      "  df['Item'].fillna(df['Item'].mode()[0], inplace=True)\n",
      "C:\\Users\\shara\\AppData\\Local\\Temp\\ipykernel_8752\\3871379536.py:18: FutureWarning: A value is trying to be set on a copy of a DataFrame or Series through chained assignment using an inplace method.\n",
      "The behavior will change in pandas 3.0. This inplace method will never work because the intermediate object on which we are setting values always behaves as a copy.\n",
      "\n",
      "For example, when doing 'df[col].method(value, inplace=True)', try using 'df.method({col: value}, inplace=True)' or df[col] = df[col].method(value) instead, to perform the operation inplace on the original object.\n",
      "\n",
      "\n",
      "  df['Quantity'].fillna(df['Quantity'].median(), inplace=True)\n",
      "C:\\Users\\shara\\AppData\\Local\\Temp\\ipykernel_8752\\3871379536.py:22: FutureWarning: A value is trying to be set on a copy of a DataFrame or Series through chained assignment using an inplace method.\n",
      "The behavior will change in pandas 3.0. This inplace method will never work because the intermediate object on which we are setting values always behaves as a copy.\n",
      "\n",
      "For example, when doing 'df[col].method(value, inplace=True)', try using 'df.method({col: value}, inplace=True)' or df[col] = df[col].method(value) instead, to perform the operation inplace on the original object.\n",
      "\n",
      "\n",
      "  df['Price Per Unit'].fillna(df['Price Per Unit'].mean(), inplace=True)\n",
      "C:\\Users\\shara\\AppData\\Local\\Temp\\ipykernel_8752\\3871379536.py:27: FutureWarning: A value is trying to be set on a copy of a DataFrame or Series through chained assignment using an inplace method.\n",
      "The behavior will change in pandas 3.0. This inplace method will never work because the intermediate object on which we are setting values always behaves as a copy.\n",
      "\n",
      "For example, when doing 'df[col].method(value, inplace=True)', try using 'df.method({col: value}, inplace=True)' or df[col] = df[col].method(value) instead, to perform the operation inplace on the original object.\n",
      "\n",
      "\n",
      "  df['Payment Method'].fillna(df['Payment Method'].mode()[0], inplace=True)\n",
      "C:\\Users\\shara\\AppData\\Local\\Temp\\ipykernel_8752\\3871379536.py:31: FutureWarning: A value is trying to be set on a copy of a DataFrame or Series through chained assignment using an inplace method.\n",
      "The behavior will change in pandas 3.0. This inplace method will never work because the intermediate object on which we are setting values always behaves as a copy.\n",
      "\n",
      "For example, when doing 'df[col].method(value, inplace=True)', try using 'df.method({col: value}, inplace=True)' or df[col] = df[col].method(value) instead, to perform the operation inplace on the original object.\n",
      "\n",
      "\n",
      "  df['Location'].fillna(df['Location'].mode()[0], inplace=True)\n"
     ]
    },
    {
     "name": "stdout",
     "output_type": "stream",
     "text": [
      "\n",
      "DataFrame limpio exportado a 'clean_cafe_sales.csv'\n"
     ]
    }
   ],
   "source": [
    "import pandas as pd\n",
    "import numpy as np\n",
    "\n",
    "# Cargar el dataset\n",
    "file_path = r\"C:\\Users\\shara\\OneDrive - Universidad Autónoma Latinoamericana\\7mo semestre\\Ciencia de datos II\\dirty_cafe_sales.csv\"\n",
    "df = pd.read_csv(file_path)\n",
    "\n",
    "# Definir valores inválidos\n",
    "invalid_values = [\"ERROR\", \"UNKNOWN\", \"None\", \"\"]\n",
    "\n",
    "# Limpiar cada columna\n",
    "# 1. Item\n",
    "df['Item'] = df['Item'].replace(invalid_values, np.nan)\n",
    "df['Item'].fillna(df['Item'].mode()[0], inplace=True)\n",
    "\n",
    "# 2. Quantity\n",
    "df['Quantity'] = pd.to_numeric(df['Quantity'], errors='coerce')\n",
    "df['Quantity'].fillna(df['Quantity'].median(), inplace=True)\n",
    "\n",
    "# 3. Price Per Unit\n",
    "df['Price Per Unit'] = pd.to_numeric(df['Price Per Unit'], errors='coerce')\n",
    "df['Price Per Unit'].fillna(df['Price Per Unit'].mean(), inplace=True)\n",
    "df['Price Per Unit'] = df['Price Per Unit'].round(2)  # Redondear a 2 decimales\n",
    "\n",
    "# 4. Payment Method\n",
    "df['Payment Method'] = df['Payment Method'].replace(invalid_values, np.nan)\n",
    "df['Payment Method'].fillna(df['Payment Method'].mode()[0], inplace=True)\n",
    "\n",
    "# 5. Location\n",
    "df['Location'] = df['Location'].replace(invalid_values, np.nan)\n",
    "df['Location'].fillna(df['Location'].mode()[0], inplace=True)\n",
    "print(df.dtypes)\n",
    "import pandas as pd\n",
    "\n",
    "# 6. Convertir 'Total Spent' al resultado de Price per Unit*Quantity\n",
    "df['Total Spent'] = df['Quantity'] * df['Price Per Unit']\n",
    "\n",
    "\n",
    "# 7. Convertir 'Transaction Date' a fecha, manejando errores\n",
    "df['Transaction Date'] = pd.to_datetime(df['Transaction Date'], errors='coerce')\n",
    "df = df.dropna(subset=['Transaction Date'])\n",
    "\n",
    "\n",
    "# Mostrar la información después de los cambios\n",
    "print(df.info())\n",
    "\n",
    "\n",
    "\n",
    "# Verificar el resultado\n",
    "print(\"Información del DataFrame limpio:\")\n",
    "print(df.info())\n",
    "\n",
    "print(\"\\nValores faltantes por columna:\")\n",
    "print(df.isnull().sum())\n",
    "\n",
    "# Exportar el DataFrame limpio a un nuevo archivo CSV \n",
    "df.to_csv(\"clean_cafe_sales.csv\", index=False)\n",
    "print(\"\\nDataFrame limpio exportado a 'clean_cafe_sales.csv'\")"
   ]
  },
  {
   "cell_type": "markdown",
   "metadata": {},
   "source": [
    "#### EDA"
   ]
  },
  {
   "cell_type": "code",
   "execution_count": 26,
   "metadata": {},
   "outputs": [
    {
     "name": "stdout",
     "output_type": "stream",
     "text": [
      "Requirement already satisfied: matplotlib in c:\\users\\shara\\appdata\\local\\programs\\python\\python311\\lib\\site-packages (3.10.1)\n",
      "Requirement already satisfied: contourpy>=1.0.1 in c:\\users\\shara\\appdata\\local\\programs\\python\\python311\\lib\\site-packages (from matplotlib) (1.3.1)\n",
      "Requirement already satisfied: cycler>=0.10 in c:\\users\\shara\\appdata\\local\\programs\\python\\python311\\lib\\site-packages (from matplotlib) (0.12.1)\n",
      "Requirement already satisfied: fonttools>=4.22.0 in c:\\users\\shara\\appdata\\local\\programs\\python\\python311\\lib\\site-packages (from matplotlib) (4.56.0)\n",
      "Requirement already satisfied: kiwisolver>=1.3.1 in c:\\users\\shara\\appdata\\local\\programs\\python\\python311\\lib\\site-packages (from matplotlib) (1.4.8)\n",
      "Requirement already satisfied: numpy>=1.23 in c:\\users\\shara\\appdata\\local\\programs\\python\\python311\\lib\\site-packages (from matplotlib) (2.2.4)\n",
      "Requirement already satisfied: packaging>=20.0 in c:\\users\\shara\\appdata\\roaming\\python\\python311\\site-packages (from matplotlib) (24.2)\n",
      "Requirement already satisfied: pillow>=8 in c:\\users\\shara\\appdata\\local\\programs\\python\\python311\\lib\\site-packages (from matplotlib) (11.1.0)\n",
      "Requirement already satisfied: pyparsing>=2.3.1 in c:\\users\\shara\\appdata\\local\\programs\\python\\python311\\lib\\site-packages (from matplotlib) (3.2.1)\n",
      "Requirement already satisfied: python-dateutil>=2.7 in c:\\users\\shara\\appdata\\roaming\\python\\python311\\site-packages (from matplotlib) (2.9.0.post0)\n",
      "Requirement already satisfied: six>=1.5 in c:\\users\\shara\\appdata\\roaming\\python\\python311\\site-packages (from python-dateutil>=2.7->matplotlib) (1.17.0)\n"
     ]
    },
    {
     "name": "stderr",
     "output_type": "stream",
     "text": [
      "\n",
      "[notice] A new release of pip is available: 23.2.1 -> 25.0.1\n",
      "[notice] To update, run: python.exe -m pip install --upgrade pip\n"
     ]
    },
    {
     "data": {
      "text/plain": [
       "<Figure size 1200x600 with 0 Axes>"
      ]
     },
     "metadata": {},
     "output_type": "display_data"
    },
    {
     "data": {
      "image/png": "[encoded data removed]",
      "text/plain": [
       "<Figure size 640x480 with 1 Axes>"
      ]
     },
     "metadata": {},
     "output_type": "display_data"
    },
    {
     "data": {
      "text/plain": [
       "<Figure size 1200x600 with 0 Axes>"
      ]
     },
     "metadata": {},
     "output_type": "display_data"
    },
    {
     "data": {
      "image/png": "[encoded data removed]",
      "text/plain": [
       "<Figure size 640x480 with 1 Axes>"
      ]
     },
     "metadata": {},
     "output_type": "display_data"
    }
   ],
   "source": [
    "!pip install matplotlib\n",
    "import matplotlib.pyplot as plt\n",
    "import pandas as pd\n",
    "\n",
    "# Configuración de estilo global\n",
    "plt.rcParams[\"font.family\"] = \"Times New Roman\"\n",
    "plt.rcParams[\"font.size\"] = 12\n",
    "\n",
    "# Definir colores personalizados\n",
    "colors = [\"#C4E1F6\", \"#FEEE91\", \"#FFBD73\", \"#FF9D3D\"]\n",
    "\n",
    "# Diccionarios de traducción\n",
    "traduccion_items = {\n",
    "    \"Coffee\": \"Café\",\n",
    "    \"Tea\": \"Té\",\n",
    "    \"Sandwich\": \"Sándwich\",\n",
    "    \"Cake\": \"Pastel\",\n",
    "    \"Juice\": \"Jugo\",\n",
    "    \"Salad\":\"Ensalada\",\n",
    "    \"Smoothie\":\"Malteada\",\n",
    "    \"Cookie\":\"Galleta\"\n",
    "}\n",
    "\n",
    "traduccion_metodos_pago = {\n",
    "    \"Credit Card\": \"Tarjeta de Crédito\",\n",
    "    \"Debit Card\": \"Tarjeta de Débito\",\n",
    "    \"Cash\": \"Efectivo\",\n",
    "    \"Mobile Payment\": \"Pago Móvil\",\n",
    "    \"Digital Wallet\": \"Billetera Digital\"\n",
    "}\n",
    "\n",
    "traduccion_ubicaciones = {\n",
    "    \"In-store\": \"En tienda\",\n",
    "    \"Takeaway\": \"Para llevar\"\n",
    "}\n",
    "\n",
    "# Aplicar las traducciones en el DataFrame\n",
    "df[\"Item\"] = df[\"Item\"].replace(traduccion_items)\n",
    "df[\"Payment Method\"] = df[\"Payment Method\"].replace(traduccion_metodos_pago)\n",
    "df[\"Location\"] = df[\"Location\"].replace(traduccion_ubicaciones)\n",
    "\n",
    "# Convertir Total Spent a float para evitar errores\n",
    "df[\"Total Spent\"] = pd.to_numeric(df[\"Total Spent\"], errors=\"coerce\")\n",
    "\n",
    "# Gráfico 1:\n",
    "#Gasto promedio por ítem y método de pago\n",
    "plt.figure(figsize=(12, 6))\n",
    "df.pivot_table(index=\"Item\", columns=\"Payment Method\", values=\"Total Spent\", aggfunc=\"mean\").plot.bar(color=colors)\n",
    "plt.title(\"Gasto promedio por ítem y método de pago\", fontsize=12, loc=\"center\", pad=20)\n",
    "plt.xlabel(\"Ítem\", fontsize=12, loc=\"center\", labelpad=10)\n",
    "plt.ylabel(\"Gasto promedio\", fontsize=12, loc=\"center\", labelpad=10)\n",
    "plt.legend(title=\"Método de pago\", fontsize=12, title_fontsize=12, loc=\"best\")\n",
    "plt.xticks(rotation=0, fontsize=12)\n",
    "plt.yticks(fontsize=12)\n",
    "plt.grid(axis=\"y\", linestyle=\"--\", alpha=0.7)\n",
    "plt.show()\n",
    "\n",
    "# Gráfico 2: Gasto promedio por ítem y ubicación\n",
    "plt.figure(figsize=(12, 6))\n",
    "df.pivot_table(index=\"Item\", columns=\"Location\", values=\"Total Spent\", aggfunc=\"mean\").plot.bar(color=colors)\n",
    "plt.title(\"Gasto promedio por ítem y ubicación\", fontsize=12, loc=\"center\", pad=20)\n",
    "plt.xlabel(\"Ítem\", fontsize=12, loc=\"center\", labelpad=10)\n",
    "plt.ylabel(\"Gasto promedio\", fontsize=12, loc=\"center\", labelpad=10)\n",
    "plt.legend(title=\"Ubicación\", fontsize=12, title_fontsize=12, loc=\"best\")\n",
    "plt.xticks(rotation=0, fontsize=12)\n",
    "plt.yticks(fontsize=12)\n",
    "plt.grid(axis=\"y\", linestyle=\"--\", alpha=0.7)\n",
    "plt.show()\n"
   ]
  },
  {
   "cell_type": "markdown",
   "metadata": {},
   "source": [
    "#### Pipeline de pre-procesamiento"
   ]
  },
  {
   "cell_type": "code",
   "execution_count": 27,
   "metadata": {},
   "outputs": [
    {
     "name": "stdout",
     "output_type": "stream",
     "text": [
      "Requirement already satisfied: scikit-learn in c:\\users\\shara\\appdata\\local\\programs\\python\\python311\\lib\\site-packages (1.6.1)\n",
      "Requirement already satisfied: numpy>=1.19.5 in c:\\users\\shara\\appdata\\local\\programs\\python\\python311\\lib\\site-packages (from scikit-learn) (2.2.4)\n",
      "Requirement already satisfied: scipy>=1.6.0 in c:\\users\\shara\\appdata\\local\\programs\\python\\python311\\lib\\site-packages (from scikit-learn) (1.15.2)\n",
      "Requirement already satisfied: joblib>=1.2.0 in c:\\users\\shara\\appdata\\local\\programs\\python\\python311\\lib\\site-packages (from scikit-learn) (1.4.2)\n",
      "Requirement already satisfied: threadpoolctl>=3.1.0 in c:\\users\\shara\\appdata\\local\\programs\\python\\python311\\lib\\site-packages (from scikit-learn) (3.6.0)\n"
     ]
    },
    {
     "name": "stderr",
     "output_type": "stream",
     "text": [
      "\n",
      "[notice] A new release of pip is available: 23.2.1 -> 25.0.1\n",
      "[notice] To update, run: python.exe -m pip install --upgrade pip\n"
     ]
    }
   ],
   "source": [
    "!pip install scikit-learn\n",
    "import numpy as np\n",
    "import pandas as pd\n",
    "from sklearn.pipeline import Pipeline\n",
    "from sklearn.compose import ColumnTransformer\n",
    "from sklearn.impute import SimpleImputer\n",
    "from sklearn.preprocessing import StandardScaler, OneHotEncoder\n"
   ]
  },
  {
   "cell_type": "code",
   "execution_count": 28,
   "metadata": {},
   "outputs": [],
   "source": [
    "\n",
    "# Definir las columnas numéricas y categóricas\n",
    "num_features = [\"Quantity\", \"Price Per Unit\"]\n",
    "cat_features = [\"Item\", \"Payment Method\", \"Location\"]\n",
    "\n",
    "# Pipeline para variables numéricas\n",
    "num_pipeline = Pipeline([\n",
    "    (\"imputer\", SimpleImputer(strategy=\"median\")),  # Imputar con la mediana\n",
    "    (\"scaler\", StandardScaler())  # Escalar los datos\n",
    "])\n",
    "\n",
    "# Pipeline para variables categóricas\n",
    "cat_pipeline = Pipeline([\n",
    "    (\"imputer\", SimpleImputer(strategy=\"most_frequent\")),  # Imputar con la moda\n",
    "    (\"encoder\", OneHotEncoder(handle_unknown=\"ignore\"))  # Codificación One-Hot\n",
    "])\n",
    "\n",
    "# Combinar ambos pipelines en un ColumnTransformer\n",
    "preprocessor = ColumnTransformer([\n",
    "    (\"num\", num_pipeline, num_features),\n",
    "    (\"cat\", cat_pipeline, cat_features)\n",
    "])\n"
   ]
  },
  {
   "cell_type": "code",
   "execution_count": 29,
   "metadata": {},
   "outputs": [
    {
     "name": "stdout",
     "output_type": "stream",
     "text": [
      "         0         1    2    3    4    5    6    7    8    9    10   11   12  \\\n",
      "0 -0.741832 -0.763746  1.0  0.0  0.0  0.0  0.0  0.0  0.0  0.0  0.0  0.0  1.0   \n",
      "1  0.702686  0.040211  0.0  0.0  0.0  0.0  0.0  1.0  0.0  0.0  0.0  1.0  0.0   \n",
      "2  0.702686 -1.567703  0.0  0.0  1.0  0.0  0.0  0.0  0.0  0.0  0.0  0.0  1.0   \n",
      "3 -0.741832  1.648125  0.0  1.0  0.0  0.0  0.0  0.0  0.0  0.0  1.0  0.0  0.0   \n",
      "4 -0.741832 -0.763746  1.0  0.0  0.0  0.0  0.0  0.0  0.0  0.0  1.0  0.0  0.0   \n",
      "\n",
      "    13   14  \n",
      "0  0.0  1.0  \n",
      "1  1.0  0.0  \n",
      "2  1.0  0.0  \n",
      "3  0.0  1.0  \n",
      "4  1.0  0.0  \n"
     ]
    }
   ],
   "source": [
    "# Aplicar el pipeline de preprocesamiento\n",
    "df_transformed = preprocessor.fit_transform(df)\n",
    "\n",
    "# Convertimos la salida a DataFrame\n",
    "df_transformed = pd.DataFrame(df_transformed)\n",
    "\n",
    "# Ver los primeros resultados\n",
    "print(df_transformed.head())\n"
   ]
  },
  {
   "cell_type": "code",
   "execution_count": 31,
   "metadata": {},
   "outputs": [
    {
     "name": "stdout",
     "output_type": "stream",
     "text": [
      "Valores NaN en y: 0\n"
     ]
    }
   ],
   "source": [
    "from sklearn.ensemble import RandomForestRegressor\n",
    "from sklearn.ensemble import RandomForestClassifier\n",
    "\n",
    "#4. Crear el pipeline con el modelo\n",
    "full_pipeline = Pipeline([\n",
    "    (\"preprocessor\", preprocessor),\n",
    "    (\"model\", RandomForestClassifier(n_estimators=100, random_state=42))\n",
    "])\n",
    "\n",
    "# Eliminar filas donde Total Spent sea NaN antes de definir X e y\n",
    "df = df.dropna(subset=[\"Total Spent\"])\n",
    "\n",
    "# Definir X e y\n",
    "X = df.drop(columns=[\"Total Spent\"])  # Variables predictoras\n",
    "y = df[\"Total Spent\"]  # Variable objetivo\n",
    "\n",
    "print(\"Valores NaN en y:\", y.isna().sum())  # Debería imprimir 0\n",
    "\n"
   ]
  },
  {
   "cell_type": "code",
   "execution_count": 32,
   "metadata": {},
   "outputs": [
    {
     "name": "stdout",
     "output_type": "stream",
     "text": [
      "Error absoluto medio (MAE): 0.2964957207106682\n"
     ]
    }
   ],
   "source": [
    "from sklearn.model_selection import train_test_split\n",
    "from sklearn.ensemble import RandomForestRegressor\n",
    "from sklearn.pipeline import Pipeline\n",
    "from sklearn.metrics import mean_absolute_error\n",
    "\n",
    "# Dividir los datos en entrenamiento y prueba (80% entrenamiento, 20% prueba)\n",
    "X_train, X_test, y_train, y_test = train_test_split(X, y, test_size=0.2, random_state=42)\n",
    "\n",
    "# Crear el pipeline con el modelo de regresión\n",
    "full_pipeline = Pipeline([\n",
    "    (\"preprocessor\", preprocessor),\n",
    "    (\"model\", RandomForestRegressor(n_estimators=100, random_state=42))\n",
    "])\n",
    "\n",
    "# Entrenar el modelo con los datos de entrenamiento\n",
    "full_pipeline.fit(X_train, y_train)\n",
    "\n",
    "# Hacer predicciones en el conjunto de prueba\n",
    "y_pred = full_pipeline.predict(X_test)\n",
    "\n",
    "# Evaluar el error\n",
    "mae = mean_absolute_error(y_test, y_pred)\n",
    "print(f\"Error absoluto medio (MAE): {mae}\")\n"
   ]
  }
 ],
 "metadata": {
  "kernelspec": {
   "display_name": "Python 3",
   "language": "python",
   "name": "python3"
  },
  "language_info": {
   "codemirror_mode": {
    "name": "ipython",
    "version": 3
   },
   "file_extension": ".py",
   "mimetype": "text/x-python",
   "name": "python",
   "nbconvert_exporter": "python",
   "pygments_lexer": "ipython3",
   "version": "3.11.6"
  }
 },
 "nbformat": 4,
 "nbformat_minor": 2
}
